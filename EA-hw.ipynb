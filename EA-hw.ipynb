{
 "cells": [
  {
   "attachments": {},
   "cell_type": "markdown",
   "metadata": {},
   "source": [
    "Solve polynomial equation\n",
    "\n",
    "Equation 1: a+2*b+3*c=0\n",
    "Equation 2: -3*a+2*b+5*c=0"
   ]
  },
  {
   "attachments": {},
   "cell_type": "markdown",
   "metadata": {},
   "source": [
    "#Equation 1"
   ]
  },
  {
   "cell_type": "code",
   "execution_count": 1,
   "metadata": {},
   "outputs": [],
   "source": [
    "import numpy as np"
   ]
  },
  {
   "cell_type": "code",
   "execution_count": 25,
   "metadata": {},
   "outputs": [
    {
     "data": {
      "text/plain": [
       "[[-30, -2, 1, 28],\n",
       " [-36, 1, -5, 28],\n",
       " [-36, -2, -2, 28],\n",
       " [-31, 2, 0, 28],\n",
       " [-30, -1, 1, 28],\n",
       " [-31, 2, 0, 28],\n",
       " [-28, -1, 0, 28],\n",
       " [-31, -1, 3, 28],\n",
       " [-35, 0, -5, 28],\n",
       " [-35, 0, -6, 28]]"
      ]
     },
     "execution_count": 25,
     "metadata": {},
     "output_type": "execute_result"
    }
   ],
   "source": [
    "init_pop1 = []\n",
    "k = 10\n",
    "\n",
    "#gen first pop\n",
    "for i in range(k):\n",
    "    a = np.random.randint(-10, 10)\n",
    "    b = np.random.randint(-10, 10)\n",
    "    c = np.random.randint(-10, 10)\n",
    "    f = abs(a+2*b+3*c) #fitness value\n",
    "    init_pop1.append([a, b, c, f])\n",
    "\n",
    "for gen in range(1000):\n",
    "    avg_fit = np.average(np.array(init_pop1)[:, 3])\n",
    "\n",
    "    #selection\n",
    "    select_pop = []\n",
    "    for i in init_pop1:\n",
    "        if(i[3] <= avg_fit):\n",
    "            select_pop.append(i)\n",
    "    \n",
    "    #reproduction\n",
    "    idx = np.random.randint(len(select_pop), size=k)\n",
    "    repro_pop = np.array(select_pop)[idx, :]\n",
    "\n",
    "    #mutation\n",
    "    mutate_pop = []\n",
    "    for j in repro_pop:\n",
    "        ra = np.random.choice([-1, 0, 1])\n",
    "        rb = np.random.choice([-1, 0, 1])\n",
    "        rc = np.random.choice([-1, 0, 1])\n",
    "        na = j[0]+ra #new a\n",
    "        nb = j[1]+rb\n",
    "        nc = j[2]+rc\n",
    "        nf = abs(a+2*b+3*c)\n",
    "        mutate_pop.append([na, nb, nc, nf])\n",
    "    \n",
    "    init_pop1 = mutate_pop\n",
    "\n",
    "init_pop1"
   ]
  },
  {
   "attachments": {},
   "cell_type": "markdown",
   "metadata": {},
   "source": [
    "#Equation 2"
   ]
  },
  {
   "cell_type": "code",
   "execution_count": 26,
   "metadata": {},
   "outputs": [
    {
     "data": {
      "text/plain": [
       "[[-34, 12, 8, 4],\n",
       " [-34, 8, 2, 4],\n",
       " [-34, 9, 1, 4],\n",
       " [-38, 9, -2, 4],\n",
       " [-35, 12, 6, 4],\n",
       " [-32, 11, 8, 4],\n",
       " [-34, 11, 9, 4],\n",
       " [-36, 11, 2, 4],\n",
       " [-34, 9, 2, 4],\n",
       " [-36, 10, 1, 4]]"
      ]
     },
     "execution_count": 26,
     "metadata": {},
     "output_type": "execute_result"
    }
   ],
   "source": [
    "init_pop2 = []\n",
    "k = 10\n",
    "\n",
    "#gen first pop\n",
    "for i in range(k):\n",
    "    a = np.random.randint(-10, 10)\n",
    "    b = np.random.randint(-10, 10)\n",
    "    c = np.random.randint(-10, 10)\n",
    "    f = abs(-3*a+2*b+5*c) #fitness value\n",
    "    init_pop2.append([a, b, c, f])\n",
    "\n",
    "for gen in range(1000):\n",
    "    avg_fit = np.average(np.array(init_pop2)[:, 3])\n",
    "\n",
    "    #selection\n",
    "    select_pop = []\n",
    "    for i in init_pop2:\n",
    "        if(i[3] <= avg_fit):\n",
    "            select_pop.append(i)\n",
    "    \n",
    "    #reproduction\n",
    "    idx = np.random.randint(len(select_pop), size=k)\n",
    "    repro_pop = np.array(select_pop)[idx, :]\n",
    "\n",
    "    #mutation\n",
    "    mutate_pop = []\n",
    "    for j in repro_pop:\n",
    "        ra = np.random.choice([-1, 0, 1])\n",
    "        rb = np.random.choice([-1, 0, 1])\n",
    "        rc = np.random.choice([-1, 0, 1])\n",
    "        na = j[0]+ra #new a\n",
    "        nb = j[1]+rb\n",
    "        nc = j[2]+rc\n",
    "        nf = abs(-3*a+2*b+5*c)\n",
    "        mutate_pop.append([na, nb, nc, nf])\n",
    "    \n",
    "    init_pop2 = mutate_pop\n",
    "\n",
    "init_pop2"
   ]
  }
 ],
 "metadata": {
  "kernelspec": {
   "display_name": "env",
   "language": "python",
   "name": "python3"
  },
  "language_info": {
   "codemirror_mode": {
    "name": "ipython",
    "version": 3
   },
   "file_extension": ".py",
   "mimetype": "text/x-python",
   "name": "python",
   "nbconvert_exporter": "python",
   "pygments_lexer": "ipython3",
   "version": "3.8.8"
  },
  "orig_nbformat": 4,
  "vscode": {
   "interpreter": {
    "hash": "bcf342d57358d03a541bbf5a2a20c116316ff0d9898d5d0bc90184b62d349d0a"
   }
  }
 },
 "nbformat": 4,
 "nbformat_minor": 2
}
