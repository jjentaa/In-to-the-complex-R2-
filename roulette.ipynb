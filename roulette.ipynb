{
 "cells": [
  {
   "attachments": {},
   "cell_type": "markdown",
   "metadata": {},
   "source": [
    "Roulette\n",
    "38 ช่อง แดง18 ช่อง แทงช่องแดง\n",
    "18/38 = 0.474\n",
    "1-0.474 = 0.526\n",
    "\n",
    "เล่นตาละบาท\n",
    "\n",
    "กำเงินมา 1023 บาท\n",
    "กลยุทธ์ : ถ้าได้กำไร 1 บาทจะเลิกเล่นทันที\n",
    "จงหา expval ของเงินสุดท้ายที่ได้จากกลยุทธ์นี้\n",
    "(ขาดทุน)\n",
    "\n",
    "code :\n",
    "initial con.\n",
    "กำหนดเงินเริ่มต้น 1023\n",
    "สุ่มโอกาสชนะ random.uniform\n",
    "ชนะ random <= 0.474\n",
    "ชนะ เงิน +1\n",
    "แพ้ เงิน -1\n",
    "เช็คเงินที่มี ถ้ามีเงิน 1024 บาทให้เลิกเล่น\n",
    "ถ้าเงินเหลือ 0 ให้หยุด"
   ]
  },
  {
   "cell_type": "code",
   "execution_count": 1,
   "metadata": {},
   "outputs": [],
   "source": [
    "import numpy as np \n",
    "import matplotlib.pyplot as plt"
   ]
  },
  {
   "cell_type": "code",
   "execution_count": 226,
   "metadata": {},
   "outputs": [
    {
     "name": "stdout",
     "output_type": "stream",
     "text": [
      "970.26\n"
     ]
    }
   ],
   "source": [
    "money = 1023\n",
    "time = 0\n",
    "expVal = 0\n",
    "for i in range(1000):\n",
    "    money = 1023\n",
    "    for i in range(1000):\n",
    "    # while(money!=1024 and money !=0):\n",
    "        rand = np.random.uniform()\n",
    "        if(rand<=0.474):\n",
    "            money += 1\n",
    "        else:\n",
    "            money -= 1\n",
    "    expVal += (money)\n",
    "\n",
    "expVal /= 1000\n",
    "print(expVal)"
   ]
  },
  {
   "attachments": {},
   "cell_type": "markdown",
   "metadata": {},
   "source": [
    "ex2 กำเงินมา 1023 บาท [ถ้ากำไร 1 บาทเลิกเล่นทันที]\n",
    "doubling up(martingale) ตาแรกเสีย 1 ตาสองจะแทง 2 บาท ถ้าเสียจะแทง 4 บาท แต่ถ้าแทงได้ จะเลิก"
   ]
  },
  {
   "cell_type": "code",
   "execution_count": 276,
   "metadata": {},
   "outputs": [
    {
     "name": "stdout",
     "output_type": "stream",
     "text": [
      "expVal : 1024.0\n"
     ]
    }
   ],
   "source": [
    "expVal = 0\n",
    "n =1000\n",
    "for i in range(n):\n",
    "    money =1023\n",
    "    time=0\n",
    "    while(money>=0):\n",
    "        rand = np.random.uniform()\n",
    "        if(rand <= 0.474):\n",
    "            money = 1024\n",
    "            break\n",
    "        else:\n",
    "            money -= 2**time\n",
    "        time += 1\n",
    "    #print(time)\n",
    "    expVal += money\n",
    "print(\"expVal :\", expVal/n)"
   ]
  }
 ],
 "metadata": {
  "kernelspec": {
   "display_name": "env",
   "language": "python",
   "name": "python3"
  },
  "language_info": {
   "codemirror_mode": {
    "name": "ipython",
    "version": 3
   },
   "file_extension": ".py",
   "mimetype": "text/x-python",
   "name": "python",
   "nbconvert_exporter": "python",
   "pygments_lexer": "ipython3",
   "version": "3.8.8 (default, Apr 13 2021, 12:59:45) \n[Clang 10.0.0 ]"
  },
  "orig_nbformat": 4,
  "vscode": {
   "interpreter": {
    "hash": "bcf342d57358d03a541bbf5a2a20c116316ff0d9898d5d0bc90184b62d349d0a"
   }
  }
 },
 "nbformat": 4,
 "nbformat_minor": 2
}
