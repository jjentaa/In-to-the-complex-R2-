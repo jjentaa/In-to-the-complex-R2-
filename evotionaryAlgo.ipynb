{
 "cells": [
  {
   "cell_type": "code",
   "execution_count": 58,
   "metadata": {},
   "outputs": [],
   "source": [
    "import matplotlib.pyplot as plt\n",
    "import numpy as np"
   ]
  },
  {
   "attachments": {},
   "cell_type": "markdown",
   "metadata": {},
   "source": [
    "#Distribution of drug tolerance in Bateria Populaton"
   ]
  },
  {
   "cell_type": "code",
   "execution_count": null,
   "metadata": {},
   "outputs": [],
   "source": [
    "#Population initation\n",
    "K = 1000 #population each gen\n",
    "init_pop = np.random.normal(100, 15, K) #15=s.d. 100=mean"
   ]
  },
  {
   "cell_type": "code",
   "execution_count": null,
   "metadata": {},
   "outputs": [],
   "source": [
    "plt.hist(init_pop, bins=np.arange(0, 200, 1))"
   ]
  },
  {
   "cell_type": "code",
   "execution_count": null,
   "metadata": {},
   "outputs": [],
   "source": [
    "#Natural Selection\n",
    "drug = 120\n",
    "selected_pop = []\n",
    "\n",
    "for i in init_pop:\n",
    "    if(i >= drug):\n",
    "        selected_pop.append(i)"
   ]
  },
  {
   "cell_type": "code",
   "execution_count": null,
   "metadata": {},
   "outputs": [],
   "source": [
    "#Reproduction\n",
    "reproduced_pop = np.random.choice(selected_pop, K)"
   ]
  },
  {
   "cell_type": "code",
   "execution_count": null,
   "metadata": {},
   "outputs": [],
   "source": [
    "#Mutation\n",
    "mutated_pop = []\n",
    "for i in reproduced_pop:\n",
    "    r = np.random.choice([-3, -2, -1, 0, 1, 2, 3])\n",
    "    mutated_pop.append(i+r)"
   ]
  },
  {
   "cell_type": "code",
   "execution_count": null,
   "metadata": {},
   "outputs": [],
   "source": [
    "init_pop = mutated_pop #init pop of next generation"
   ]
  },
  {
   "cell_type": "code",
   "execution_count": null,
   "metadata": {},
   "outputs": [],
   "source": [
    "plt.hist(init_pop, bins=np.arange(0, 200, 1));\n",
    "plt.hist(mutated_pop, bins=np.arange(0, 200, 1)); #; = notshow info"
   ]
  },
  {
   "attachments": {},
   "cell_type": "markdown",
   "metadata": {},
   "source": [
    "Solve polynomial equation"
   ]
  },
  {
   "cell_type": "code",
   "execution_count": 69,
   "metadata": {},
   "outputs": [
    {
     "name": "stdout",
     "output_type": "stream",
     "text": [
      "[[0, 18, 5, 31], [8, 5, 8, 22], [4, 18, 10, 50], [18, 0, 4, 10], [5, 0, 13, 24]]\n"
     ]
    }
   ],
   "source": [
    "#population creation\n",
    "initial_pop = []\n",
    "K=5\n",
    "for i in range(K):\n",
    "    a = np.random.randint(0, 20)\n",
    "    b = np.random.randint(0, 20)\n",
    "    c = np.random.randint(0, 20)\n",
    "    f = abs(a+2*b+3*c-20) #fitness value\n",
    "    initial_pop.append([a, b, c, f])\n",
    "\n",
    "print(initial_pop)"
   ]
  },
  {
   "cell_type": "code",
   "execution_count": 70,
   "metadata": {},
   "outputs": [
    {
     "data": {
      "text/plain": [
       "[[8, 5, 8, 22], [18, 0, 4, 10], [5, 0, 13, 24]]"
      ]
     },
     "execution_count": 70,
     "metadata": {},
     "output_type": "execute_result"
    }
   ],
   "source": [
    "averagefit = np.average(np.array(initial_pop)[:,3])\n",
    "selected_pop = []\n",
    "\n",
    "for i in initial_pop:\n",
    "    if(i[3] <= averagefit):\n",
    "        selected_pop.append(i)\n",
    "\n",
    "selected_pop"
   ]
  },
  {
   "cell_type": "code",
   "execution_count": 71,
   "metadata": {},
   "outputs": [
    {
     "data": {
      "text/plain": [
       "array([[ 5,  0, 13, 24],\n",
       "       [ 8,  5,  8, 22],\n",
       "       [ 8,  5,  8, 22],\n",
       "       [ 8,  5,  8, 22],\n",
       "       [18,  0,  4, 10]])"
      ]
     },
     "execution_count": 71,
     "metadata": {},
     "output_type": "execute_result"
    }
   ],
   "source": [
    "#reproduction\n",
    "index = np.random.randint(len(selected_pop), size=K)\n",
    "\n",
    "reproduce_pop = np.array(selected_pop)[index, :]\n",
    "reproduce_pop"
   ]
  },
  {
   "cell_type": "code",
   "execution_count": 72,
   "metadata": {},
   "outputs": [
    {
     "name": "stdout",
     "output_type": "stream",
     "text": [
      "[[5, -1, 14, 25], [8, 5, 8, 22], [8, 6, 9, 27], [7, 4, 8, 19], [19, 0, 5, 14]]\n"
     ]
    }
   ],
   "source": [
    "#mutation\n",
    "mutate_pop = []\n",
    "for i in reproduce_pop:\n",
    "    ra = np.random.choice([-1, 0, 1])\n",
    "    rb = np.random.choice([-1, 0, 1])\n",
    "    rc = np.random.choice([-1, 0, 1])\n",
    "    a = i[0]+ra\n",
    "    b = i[1]+rb\n",
    "    c = i[2]+rc\n",
    "    f = abs(a+2*b+3*c-20)\n",
    "    mutate_pop.append([a, b, c, f])\n",
    "\n",
    "print(mutate_pop)"
   ]
  },
  {
   "cell_type": "code",
   "execution_count": 85,
   "metadata": {},
   "outputs": [
    {
     "data": {
      "text/plain": [
       "[[0, -11, 14, 0],\n",
       " [1, -12, 12, 7],\n",
       " [-1, -10, 13, 2],\n",
       " [2, -12, 14, 0],\n",
       " [-2, -11, 14, 2]]"
      ]
     },
     "execution_count": 85,
     "metadata": {},
     "output_type": "execute_result"
    }
   ],
   "source": [
    "#population creation\n",
    "initial_pop = []\n",
    "K=5\n",
    "for i in range(K):\n",
    "    a = np.random.randint(0, 20)\n",
    "    b = np.random.randint(0, 20)\n",
    "    c = np.random.randint(0, 20)\n",
    "    f = abs(a+2*b+3*c-20) #fitness value\n",
    "    initial_pop.append([a, b, c, f])\n",
    "\n",
    "for gen in range(100):\n",
    "    averagefit = np.average(np.array(initial_pop)[:,3])\n",
    "    selected_pop = []\n",
    "\n",
    "    for i in initial_pop:\n",
    "        if(i[3] <= averagefit):\n",
    "            selected_pop.append(i)\n",
    "    \n",
    "    #reproduction\n",
    "    index = np.random.randint(len(selected_pop), size=K)\n",
    "\n",
    "    reproduce_pop = np.array(selected_pop)[index, :]\n",
    "    \n",
    "    #mutation\n",
    "    mutate_pop = []\n",
    "    for i in reproduce_pop:\n",
    "        ra = np.random.choice([-1, 0, 1])\n",
    "        rb = np.random.choice([-1, 0, 1])\n",
    "        rc = np.random.choice([-1, 0, 1])\n",
    "        a = i[0]+ra\n",
    "        b = i[1]+rb\n",
    "        c = i[2]+rc\n",
    "        f = abs(a+2*b+3*c-20)\n",
    "        mutate_pop.append([a, b, c, f])\n",
    "\n",
    "    initial_pop=mutate_pop\n",
    "initial_pop"
   ]
  },
  {
   "cell_type": "code",
   "execution_count": 84,
   "metadata": {},
   "outputs": [
    {
     "data": {
      "text/plain": [
       "[[0, 7, 4, 6], [1, 7, 4, 7], [1, 4, 4, 1], [1, 5, 4, 3], [0, 6, 2, 2]]"
      ]
     },
     "execution_count": 84,
     "metadata": {},
     "output_type": "execute_result"
    }
   ],
   "source": [
    "initial_pop"
   ]
  }
 ],
 "metadata": {
  "kernelspec": {
   "display_name": "env",
   "language": "python",
   "name": "python3"
  },
  "language_info": {
   "codemirror_mode": {
    "name": "ipython",
    "version": 3
   },
   "file_extension": ".py",
   "mimetype": "text/x-python",
   "name": "python",
   "nbconvert_exporter": "python",
   "pygments_lexer": "ipython3",
   "version": "3.8.8 (default, Apr 13 2021, 12:59:45) \n[Clang 10.0.0 ]"
  },
  "orig_nbformat": 4,
  "vscode": {
   "interpreter": {
    "hash": "bcf342d57358d03a541bbf5a2a20c116316ff0d9898d5d0bc90184b62d349d0a"
   }
  }
 },
 "nbformat": 4,
 "nbformat_minor": 2
}
