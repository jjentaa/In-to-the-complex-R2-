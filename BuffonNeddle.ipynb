{
 "cells": [
  {
   "cell_type": "code",
   "execution_count": 1,
   "metadata": {},
   "outputs": [],
   "source": [
    "import random\n",
    "import math"
   ]
  },
  {
   "cell_type": "code",
   "execution_count": 3,
   "metadata": {},
   "outputs": [],
   "source": [
    "class Paper:\n",
    "    def __init__(self, n):\n",
    "        self.l = 2\n",
    "        self.d = 2\n",
    "        self.n = n\n",
    "        self.counter = 0\n",
    "    \n",
    "    def isInLine(self, x, angel):\n",
    "        if(x <= math.sin(angel)):\n",
    "            return 1\n",
    "        else:\n",
    "            return 0\n",
    "\n",
    "    def throwNeddle(self):\n",
    "        self.x = random.uniform(0, self.d)\n",
    "        self.ag = random.uniform(0, 90)\n",
    "        self.counter += self.isInLine(self.x, self.ag)\n",
    "\n",
    "    def main(self):\n",
    "        for i in range(self.n):\n",
    "            self.throwNeddle()\n",
    "        self.prob = self.counter/self.n"
   ]
  },
  {
   "cell_type": "code",
   "execution_count": 9,
   "metadata": {},
   "outputs": [
    {
     "name": "stdout",
     "output_type": "stream",
     "text": [
      "6.666666666666667\n"
     ]
    }
   ],
   "source": [
    "#1\n",
    "p1 = Paper(100)\n",
    "p1.main()\n",
    "print(1/p1.prob)"
   ]
  },
  {
   "cell_type": "code",
   "execution_count": 10,
   "metadata": {},
   "outputs": [
    {
     "name": "stdout",
     "output_type": "stream",
     "text": [
      "6.329113924050633\n"
     ]
    }
   ],
   "source": [
    "#2\n",
    "p2 = Paper(1000)\n",
    "p2.main()\n",
    "print(1/p2.prob)"
   ]
  },
  {
   "cell_type": "code",
   "execution_count": 11,
   "metadata": {},
   "outputs": [
    {
     "name": "stdout",
     "output_type": "stream",
     "text": [
      "6.097675158911118\n"
     ]
    }
   ],
   "source": [
    "#3\n",
    "total = 0\n",
    "for i in range(100):\n",
    "    p = Paper(1000)\n",
    "    p.main()\n",
    "    total += 1/p.prob\n",
    "\n",
    "print(total/100)"
   ]
  }
 ],
 "metadata": {
  "kernelspec": {
   "display_name": "Python 3.8.8 ('env': venv)",
   "language": "python",
   "name": "python3"
  },
  "language_info": {
   "codemirror_mode": {
    "name": "ipython",
    "version": 3
   },
   "file_extension": ".py",
   "mimetype": "text/x-python",
   "name": "python",
   "nbconvert_exporter": "python",
   "pygments_lexer": "ipython3",
   "version": "3.8.8"
  },
  "orig_nbformat": 4,
  "vscode": {
   "interpreter": {
    "hash": "bcf342d57358d03a541bbf5a2a20c116316ff0d9898d5d0bc90184b62d349d0a"
   }
  }
 },
 "nbformat": 4,
 "nbformat_minor": 2
}
